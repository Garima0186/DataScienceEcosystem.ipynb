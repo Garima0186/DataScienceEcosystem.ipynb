{
 "cells": [
  {
   "cell_type": "markdown",
   "id": "a1a967f0-dbab-486f-8f5d-a57e2fd09f90",
   "metadata": {},
   "source": [
    "# Data Science Tools and Ecosystems"
   ]
  },
  {
   "cell_type": "markdown",
   "id": "ee62a4c1-6e49-4f64-8ec4-562c720e4ee8",
   "metadata": {},
   "source": [
    "In this notebook, Data Science Tools and Ecosystem are summarized."
   ]
  },
  {
   "cell_type": "markdown",
   "id": "53359546-b772-4d53-b0d2-dbf5652f92e0",
   "metadata": {},
   "source": [
    "**Objectives:**\n",
    "\n",
    "- Add comments to code cell\n",
    "- Create markdown cells\n",
    "- Add ordered and unordered list to markdown cells\n",
    "- Evaluating arithmetic expressions in Python\n",
    "- Formatting content of markdown cells with heading styles"
   ]
  },
  {
   "cell_type": "markdown",
   "id": "26817423-6c9d-4738-9885-df47b803a959",
   "metadata": {},
   "source": [
    "Some of the popular languages that Data Scientists use are:\n",
    "\n",
    "1) Python\n",
    "2) R\n",
    "3) SQL\n",
    "4) Scala\n",
    "5) C++\n",
    "6) Julia"
   ]
  },
  {
   "cell_type": "markdown",
   "id": "b1ff35c4-9614-42d4-a097-fe85fe23a077",
   "metadata": {},
   "source": [
    "Some of the commonly used libraries used by Data Scientists include:\n",
    "\n",
    "1) Pandas\n",
    "2) Numpy\n",
    "3) Matplotlib \n",
    "4) Seaborn\n",
    "5) Kera\n",
    "6) Pytorch"
   ]
  },
  {
   "cell_type": "markdown",
   "id": "269bd87e-32a7-4ce9-88e2-8ee8f32bad04",
   "metadata": {},
   "source": [
    "| Data Science Tools |\n",
    "|--------------------|\n",
    "|    Anaconda        |\n",
    "| Jupyter Notebooks  |\n",
    "|    R Studio        |\n",
    "|    Spyder          |\n",
    "|  Zeppelin          |"
   ]
  },
  {
   "cell_type": "markdown",
   "id": "775858aa-0d28-4116-a740-67674270461f",
   "metadata": {},
   "source": [
    "### Below are a few examples of evaluating arithmetic expressions in Python"
   ]
  },
  {
   "cell_type": "code",
   "execution_count": 1,
   "id": "78f8089a-b79f-4520-8e39-76d2d49f9bf3",
   "metadata": {},
   "outputs": [
    {
     "data": {
      "text/plain": [
       "17"
      ]
     },
     "execution_count": 1,
     "metadata": {},
     "output_type": "execute_result"
    }
   ],
   "source": [
    "#This a simple arithmetic expression to mutiply then add integers\n",
    "\n",
    "(3*4)+5"
   ]
  },
  {
   "cell_type": "code",
   "execution_count": 8,
   "id": "cd4d4dc7-411b-4dc7-8f70-2637e460dcf2",
   "metadata": {},
   "outputs": [
    {
     "data": {
      "text/plain": [
       "3.33"
      ]
     },
     "execution_count": 8,
     "metadata": {},
     "output_type": "execute_result"
    }
   ],
   "source": [
    "#This will convert 200 minutes to hours by diving by 60\n",
    "\n",
    "round((200/60),2)"
   ]
  },
  {
   "cell_type": "markdown",
   "id": "2e29d188-b78c-42cd-b4ff-1d1e0b1b9e6d",
   "metadata": {},
   "source": [
    "## Author\n",
    "Garima"
   ]
  },
  {
   "cell_type": "code",
   "execution_count": null,
   "id": "466eb9ca-3baf-4747-aff7-f8a802ba593b",
   "metadata": {},
   "outputs": [],
   "source": []
  }
 ],
 "metadata": {
  "kernelspec": {
   "display_name": "Python 3 (ipykernel)",
   "language": "python",
   "name": "python3"
  },
  "language_info": {
   "codemirror_mode": {
    "name": "ipython",
    "version": 3
   },
   "file_extension": ".py",
   "mimetype": "text/x-python",
   "name": "python",
   "nbconvert_exporter": "python",
   "pygments_lexer": "ipython3",
   "version": "3.10.9"
  }
 },
 "nbformat": 4,
 "nbformat_minor": 5
}
